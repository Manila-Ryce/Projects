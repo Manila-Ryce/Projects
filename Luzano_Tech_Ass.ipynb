{
 "cells": [
  {
   "cell_type": "code",
   "execution_count": 1,
   "id": "3f03872b",
   "metadata": {},
   "outputs": [],
   "source": [
    "#Import packages\n",
    "import pandas as pd\n",
    "import numpy as np\n",
    "import matplotlib.pyplot as plt"
   ]
  },
  {
   "cell_type": "code",
   "execution_count": 2,
   "id": "b6639873",
   "metadata": {},
   "outputs": [],
   "source": [
    "#Read in csv.  Created new column for hypotenuse in excel before reading in.\n",
    "shots = pd.read_csv('shotshyp_data.csv')"
   ]
  },
  {
   "cell_type": "code",
   "execution_count": 3,
   "id": "d69661f7",
   "metadata": {},
   "outputs": [
    {
     "data": {
      "text/html": [
       "<div>\n",
       "<style scoped>\n",
       "    .dataframe tbody tr th:only-of-type {\n",
       "        vertical-align: middle;\n",
       "    }\n",
       "\n",
       "    .dataframe tbody tr th {\n",
       "        vertical-align: top;\n",
       "    }\n",
       "\n",
       "    .dataframe thead th {\n",
       "        text-align: right;\n",
       "    }\n",
       "</style>\n",
       "<table border=\"1\" class=\"dataframe\">\n",
       "  <thead>\n",
       "    <tr style=\"text-align: right;\">\n",
       "      <th></th>\n",
       "      <th>team</th>\n",
       "      <th>x</th>\n",
       "      <th>y</th>\n",
       "      <th>hyp</th>\n",
       "      <th>fgmade</th>\n",
       "    </tr>\n",
       "  </thead>\n",
       "  <tbody>\n",
       "    <tr>\n",
       "      <th>0</th>\n",
       "      <td>Team B</td>\n",
       "      <td>8.5</td>\n",
       "      <td>28.7</td>\n",
       "      <td>29.932257</td>\n",
       "      <td>0</td>\n",
       "    </tr>\n",
       "    <tr>\n",
       "      <th>1</th>\n",
       "      <td>Team B</td>\n",
       "      <td>9.3</td>\n",
       "      <td>27.1</td>\n",
       "      <td>28.651353</td>\n",
       "      <td>0</td>\n",
       "    </tr>\n",
       "    <tr>\n",
       "      <th>2</th>\n",
       "      <td>Team A</td>\n",
       "      <td>-18.2</td>\n",
       "      <td>22.1</td>\n",
       "      <td>28.629530</td>\n",
       "      <td>0</td>\n",
       "    </tr>\n",
       "    <tr>\n",
       "      <th>3</th>\n",
       "      <td>Team B</td>\n",
       "      <td>15.6</td>\n",
       "      <td>23.7</td>\n",
       "      <td>28.373403</td>\n",
       "      <td>0</td>\n",
       "    </tr>\n",
       "    <tr>\n",
       "      <th>4</th>\n",
       "      <td>Team B</td>\n",
       "      <td>-20.1</td>\n",
       "      <td>19.7</td>\n",
       "      <td>28.144271</td>\n",
       "      <td>0</td>\n",
       "    </tr>\n",
       "    <tr>\n",
       "      <th>...</th>\n",
       "      <td>...</td>\n",
       "      <td>...</td>\n",
       "      <td>...</td>\n",
       "      <td>...</td>\n",
       "      <td>...</td>\n",
       "    </tr>\n",
       "    <tr>\n",
       "      <th>499</th>\n",
       "      <td>Team B</td>\n",
       "      <td>0.0</td>\n",
       "      <td>-0.5</td>\n",
       "      <td>0.500000</td>\n",
       "      <td>1</td>\n",
       "    </tr>\n",
       "    <tr>\n",
       "      <th>500</th>\n",
       "      <td>Team A</td>\n",
       "      <td>0.3</td>\n",
       "      <td>0.3</td>\n",
       "      <td>0.424264</td>\n",
       "      <td>0</td>\n",
       "    </tr>\n",
       "    <tr>\n",
       "      <th>501</th>\n",
       "      <td>Team A</td>\n",
       "      <td>0.1</td>\n",
       "      <td>0.3</td>\n",
       "      <td>0.316228</td>\n",
       "      <td>1</td>\n",
       "    </tr>\n",
       "    <tr>\n",
       "      <th>502</th>\n",
       "      <td>Team B</td>\n",
       "      <td>-0.1</td>\n",
       "      <td>0.0</td>\n",
       "      <td>0.100000</td>\n",
       "      <td>1</td>\n",
       "    </tr>\n",
       "    <tr>\n",
       "      <th>503</th>\n",
       "      <td>Team B</td>\n",
       "      <td>0.0</td>\n",
       "      <td>-0.1</td>\n",
       "      <td>0.100000</td>\n",
       "      <td>1</td>\n",
       "    </tr>\n",
       "  </tbody>\n",
       "</table>\n",
       "<p>504 rows × 5 columns</p>\n",
       "</div>"
      ],
      "text/plain": [
       "       team     x     y        hyp  fgmade\n",
       "0    Team B   8.5  28.7  29.932257       0\n",
       "1    Team B   9.3  27.1  28.651353       0\n",
       "2    Team A -18.2  22.1  28.629530       0\n",
       "3    Team B  15.6  23.7  28.373403       0\n",
       "4    Team B -20.1  19.7  28.144271       0\n",
       "..      ...   ...   ...        ...     ...\n",
       "499  Team B   0.0  -0.5   0.500000       1\n",
       "500  Team A   0.3   0.3   0.424264       0\n",
       "501  Team A   0.1   0.3   0.316228       1\n",
       "502  Team B  -0.1   0.0   0.100000       1\n",
       "503  Team B   0.0  -0.1   0.100000       1\n",
       "\n",
       "[504 rows x 5 columns]"
      ]
     },
     "execution_count": 3,
     "metadata": {},
     "output_type": "execute_result"
    }
   ],
   "source": [
    "shots"
   ]
  },
  {
   "cell_type": "code",
   "execution_count": 4,
   "id": "61accbaa",
   "metadata": {},
   "outputs": [],
   "source": [
    "#Subset Team A\n",
    "TeamA = shots[shots['team'] == 'Team A']"
   ]
  },
  {
   "cell_type": "code",
   "execution_count": 5,
   "id": "23f09eab",
   "metadata": {},
   "outputs": [
    {
     "data": {
      "text/html": [
       "<div>\n",
       "<style scoped>\n",
       "    .dataframe tbody tr th:only-of-type {\n",
       "        vertical-align: middle;\n",
       "    }\n",
       "\n",
       "    .dataframe tbody tr th {\n",
       "        vertical-align: top;\n",
       "    }\n",
       "\n",
       "    .dataframe thead th {\n",
       "        text-align: right;\n",
       "    }\n",
       "</style>\n",
       "<table border=\"1\" class=\"dataframe\">\n",
       "  <thead>\n",
       "    <tr style=\"text-align: right;\">\n",
       "      <th></th>\n",
       "      <th>team</th>\n",
       "      <th>x</th>\n",
       "      <th>y</th>\n",
       "      <th>hyp</th>\n",
       "      <th>fgmade</th>\n",
       "    </tr>\n",
       "  </thead>\n",
       "  <tbody>\n",
       "    <tr>\n",
       "      <th>2</th>\n",
       "      <td>Team A</td>\n",
       "      <td>-18.2</td>\n",
       "      <td>22.1</td>\n",
       "      <td>28.629530</td>\n",
       "      <td>0</td>\n",
       "    </tr>\n",
       "    <tr>\n",
       "      <th>5</th>\n",
       "      <td>Team A</td>\n",
       "      <td>11.3</td>\n",
       "      <td>25.1</td>\n",
       "      <td>27.526351</td>\n",
       "      <td>0</td>\n",
       "    </tr>\n",
       "    <tr>\n",
       "      <th>6</th>\n",
       "      <td>Team A</td>\n",
       "      <td>15.4</td>\n",
       "      <td>22.8</td>\n",
       "      <td>27.513633</td>\n",
       "      <td>1</td>\n",
       "    </tr>\n",
       "    <tr>\n",
       "      <th>7</th>\n",
       "      <td>Team A</td>\n",
       "      <td>-3.4</td>\n",
       "      <td>27.2</td>\n",
       "      <td>27.411676</td>\n",
       "      <td>0</td>\n",
       "    </tr>\n",
       "    <tr>\n",
       "      <th>8</th>\n",
       "      <td>Team A</td>\n",
       "      <td>13.2</td>\n",
       "      <td>23.9</td>\n",
       "      <td>27.302930</td>\n",
       "      <td>0</td>\n",
       "    </tr>\n",
       "    <tr>\n",
       "      <th>...</th>\n",
       "      <td>...</td>\n",
       "      <td>...</td>\n",
       "      <td>...</td>\n",
       "      <td>...</td>\n",
       "      <td>...</td>\n",
       "    </tr>\n",
       "    <tr>\n",
       "      <th>495</th>\n",
       "      <td>Team A</td>\n",
       "      <td>0.0</td>\n",
       "      <td>-0.5</td>\n",
       "      <td>0.500000</td>\n",
       "      <td>0</td>\n",
       "    </tr>\n",
       "    <tr>\n",
       "      <th>496</th>\n",
       "      <td>Team A</td>\n",
       "      <td>0.0</td>\n",
       "      <td>-0.5</td>\n",
       "      <td>0.500000</td>\n",
       "      <td>1</td>\n",
       "    </tr>\n",
       "    <tr>\n",
       "      <th>497</th>\n",
       "      <td>Team A</td>\n",
       "      <td>0.0</td>\n",
       "      <td>-0.5</td>\n",
       "      <td>0.500000</td>\n",
       "      <td>0</td>\n",
       "    </tr>\n",
       "    <tr>\n",
       "      <th>500</th>\n",
       "      <td>Team A</td>\n",
       "      <td>0.3</td>\n",
       "      <td>0.3</td>\n",
       "      <td>0.424264</td>\n",
       "      <td>0</td>\n",
       "    </tr>\n",
       "    <tr>\n",
       "      <th>501</th>\n",
       "      <td>Team A</td>\n",
       "      <td>0.1</td>\n",
       "      <td>0.3</td>\n",
       "      <td>0.316228</td>\n",
       "      <td>1</td>\n",
       "    </tr>\n",
       "  </tbody>\n",
       "</table>\n",
       "<p>280 rows × 5 columns</p>\n",
       "</div>"
      ],
      "text/plain": [
       "       team     x     y        hyp  fgmade\n",
       "2    Team A -18.2  22.1  28.629530       0\n",
       "5    Team A  11.3  25.1  27.526351       0\n",
       "6    Team A  15.4  22.8  27.513633       1\n",
       "7    Team A  -3.4  27.2  27.411676       0\n",
       "8    Team A  13.2  23.9  27.302930       0\n",
       "..      ...   ...   ...        ...     ...\n",
       "495  Team A   0.0  -0.5   0.500000       0\n",
       "496  Team A   0.0  -0.5   0.500000       1\n",
       "497  Team A   0.0  -0.5   0.500000       0\n",
       "500  Team A   0.3   0.3   0.424264       0\n",
       "501  Team A   0.1   0.3   0.316228       1\n",
       "\n",
       "[280 rows x 5 columns]"
      ]
     },
     "execution_count": 5,
     "metadata": {},
     "output_type": "execute_result"
    }
   ],
   "source": [
    "TeamA"
   ]
  },
  {
   "cell_type": "code",
   "execution_count": 6,
   "id": "cf21019b",
   "metadata": {},
   "outputs": [],
   "source": [
    "#Subset Team B\n",
    "TeamB = shots[shots['team'] == 'Team B']"
   ]
  },
  {
   "cell_type": "code",
   "execution_count": 7,
   "id": "7aee0047",
   "metadata": {},
   "outputs": [
    {
     "data": {
      "text/html": [
       "<div>\n",
       "<style scoped>\n",
       "    .dataframe tbody tr th:only-of-type {\n",
       "        vertical-align: middle;\n",
       "    }\n",
       "\n",
       "    .dataframe tbody tr th {\n",
       "        vertical-align: top;\n",
       "    }\n",
       "\n",
       "    .dataframe thead th {\n",
       "        text-align: right;\n",
       "    }\n",
       "</style>\n",
       "<table border=\"1\" class=\"dataframe\">\n",
       "  <thead>\n",
       "    <tr style=\"text-align: right;\">\n",
       "      <th></th>\n",
       "      <th>team</th>\n",
       "      <th>x</th>\n",
       "      <th>y</th>\n",
       "      <th>hyp</th>\n",
       "      <th>fgmade</th>\n",
       "    </tr>\n",
       "  </thead>\n",
       "  <tbody>\n",
       "    <tr>\n",
       "      <th>0</th>\n",
       "      <td>Team B</td>\n",
       "      <td>8.5</td>\n",
       "      <td>28.7</td>\n",
       "      <td>29.932257</td>\n",
       "      <td>0</td>\n",
       "    </tr>\n",
       "    <tr>\n",
       "      <th>1</th>\n",
       "      <td>Team B</td>\n",
       "      <td>9.3</td>\n",
       "      <td>27.1</td>\n",
       "      <td>28.651353</td>\n",
       "      <td>0</td>\n",
       "    </tr>\n",
       "    <tr>\n",
       "      <th>3</th>\n",
       "      <td>Team B</td>\n",
       "      <td>15.6</td>\n",
       "      <td>23.7</td>\n",
       "      <td>28.373403</td>\n",
       "      <td>0</td>\n",
       "    </tr>\n",
       "    <tr>\n",
       "      <th>4</th>\n",
       "      <td>Team B</td>\n",
       "      <td>-20.1</td>\n",
       "      <td>19.7</td>\n",
       "      <td>28.144271</td>\n",
       "      <td>0</td>\n",
       "    </tr>\n",
       "    <tr>\n",
       "      <th>15</th>\n",
       "      <td>Team B</td>\n",
       "      <td>-15.0</td>\n",
       "      <td>22.2</td>\n",
       "      <td>26.792536</td>\n",
       "      <td>1</td>\n",
       "    </tr>\n",
       "    <tr>\n",
       "      <th>...</th>\n",
       "      <td>...</td>\n",
       "      <td>...</td>\n",
       "      <td>...</td>\n",
       "      <td>...</td>\n",
       "      <td>...</td>\n",
       "    </tr>\n",
       "    <tr>\n",
       "      <th>488</th>\n",
       "      <td>Team B</td>\n",
       "      <td>-0.5</td>\n",
       "      <td>0.3</td>\n",
       "      <td>0.583095</td>\n",
       "      <td>1</td>\n",
       "    </tr>\n",
       "    <tr>\n",
       "      <th>498</th>\n",
       "      <td>Team B</td>\n",
       "      <td>0.0</td>\n",
       "      <td>-0.5</td>\n",
       "      <td>0.500000</td>\n",
       "      <td>1</td>\n",
       "    </tr>\n",
       "    <tr>\n",
       "      <th>499</th>\n",
       "      <td>Team B</td>\n",
       "      <td>0.0</td>\n",
       "      <td>-0.5</td>\n",
       "      <td>0.500000</td>\n",
       "      <td>1</td>\n",
       "    </tr>\n",
       "    <tr>\n",
       "      <th>502</th>\n",
       "      <td>Team B</td>\n",
       "      <td>-0.1</td>\n",
       "      <td>0.0</td>\n",
       "      <td>0.100000</td>\n",
       "      <td>1</td>\n",
       "    </tr>\n",
       "    <tr>\n",
       "      <th>503</th>\n",
       "      <td>Team B</td>\n",
       "      <td>0.0</td>\n",
       "      <td>-0.1</td>\n",
       "      <td>0.100000</td>\n",
       "      <td>1</td>\n",
       "    </tr>\n",
       "  </tbody>\n",
       "</table>\n",
       "<p>224 rows × 5 columns</p>\n",
       "</div>"
      ],
      "text/plain": [
       "       team     x     y        hyp  fgmade\n",
       "0    Team B   8.5  28.7  29.932257       0\n",
       "1    Team B   9.3  27.1  28.651353       0\n",
       "3    Team B  15.6  23.7  28.373403       0\n",
       "4    Team B -20.1  19.7  28.144271       0\n",
       "15   Team B -15.0  22.2  26.792536       1\n",
       "..      ...   ...   ...        ...     ...\n",
       "488  Team B  -0.5   0.3   0.583095       1\n",
       "498  Team B   0.0  -0.5   0.500000       1\n",
       "499  Team B   0.0  -0.5   0.500000       1\n",
       "502  Team B  -0.1   0.0   0.100000       1\n",
       "503  Team B   0.0  -0.1   0.100000       1\n",
       "\n",
       "[224 rows x 5 columns]"
      ]
     },
     "execution_count": 7,
     "metadata": {},
     "output_type": "execute_result"
    }
   ],
   "source": [
    "TeamB"
   ]
  },
  {
   "cell_type": "code",
   "execution_count": 8,
   "id": "7a957be5",
   "metadata": {},
   "outputs": [],
   "source": [
    "#Create function for classifying shots as Corner 3, Non Corner 3, and 2 Point for Tean A\n",
    "def f(TeamA):\n",
    "    if TeamA['y'] < 7.8 and abs(TeamA['x']) < 22:\n",
    "        val=\"2PT\"\n",
    "    elif TeamA['hyp'] >= 23.75 and TeamA['y']>=7.8:\n",
    "        val='NC3'\n",
    "    elif TeamA['hyp']<23.75 and TeamA['y']>=7.8:\n",
    "        val='2PT'\n",
    "    elif TeamA['y']<7.8 and abs(TeamA['x'])>=22:\n",
    "        val ='C3'\n",
    "    return val"
   ]
  },
  {
   "cell_type": "code",
   "execution_count": 9,
   "id": "a40000b7",
   "metadata": {},
   "outputs": [
    {
     "name": "stderr",
     "output_type": "stream",
     "text": [
      "<ipython-input-9-ac0bb2350bb4>:2: SettingWithCopyWarning: \n",
      "A value is trying to be set on a copy of a slice from a DataFrame.\n",
      "Try using .loc[row_indexer,col_indexer] = value instead\n",
      "\n",
      "See the caveats in the documentation: https://pandas.pydata.org/pandas-docs/stable/user_guide/indexing.html#returning-a-view-versus-a-copy\n",
      "  TeamA['Classification']=shots.apply(f, axis=1)\n"
     ]
    }
   ],
   "source": [
    "#Create new column for shot classification for Team A\n",
    "TeamA['Classification']=shots.apply(f, axis=1)"
   ]
  },
  {
   "cell_type": "code",
   "execution_count": 10,
   "id": "a87cc392",
   "metadata": {},
   "outputs": [
    {
     "data": {
      "text/html": [
       "<div>\n",
       "<style scoped>\n",
       "    .dataframe tbody tr th:only-of-type {\n",
       "        vertical-align: middle;\n",
       "    }\n",
       "\n",
       "    .dataframe tbody tr th {\n",
       "        vertical-align: top;\n",
       "    }\n",
       "\n",
       "    .dataframe thead th {\n",
       "        text-align: right;\n",
       "    }\n",
       "</style>\n",
       "<table border=\"1\" class=\"dataframe\">\n",
       "  <thead>\n",
       "    <tr style=\"text-align: right;\">\n",
       "      <th></th>\n",
       "      <th>team</th>\n",
       "      <th>x</th>\n",
       "      <th>y</th>\n",
       "      <th>hyp</th>\n",
       "      <th>fgmade</th>\n",
       "      <th>Classification</th>\n",
       "    </tr>\n",
       "  </thead>\n",
       "  <tbody>\n",
       "    <tr>\n",
       "      <th>2</th>\n",
       "      <td>Team A</td>\n",
       "      <td>-18.2</td>\n",
       "      <td>22.1</td>\n",
       "      <td>28.629530</td>\n",
       "      <td>0</td>\n",
       "      <td>NC3</td>\n",
       "    </tr>\n",
       "    <tr>\n",
       "      <th>5</th>\n",
       "      <td>Team A</td>\n",
       "      <td>11.3</td>\n",
       "      <td>25.1</td>\n",
       "      <td>27.526351</td>\n",
       "      <td>0</td>\n",
       "      <td>NC3</td>\n",
       "    </tr>\n",
       "    <tr>\n",
       "      <th>6</th>\n",
       "      <td>Team A</td>\n",
       "      <td>15.4</td>\n",
       "      <td>22.8</td>\n",
       "      <td>27.513633</td>\n",
       "      <td>1</td>\n",
       "      <td>NC3</td>\n",
       "    </tr>\n",
       "    <tr>\n",
       "      <th>7</th>\n",
       "      <td>Team A</td>\n",
       "      <td>-3.4</td>\n",
       "      <td>27.2</td>\n",
       "      <td>27.411676</td>\n",
       "      <td>0</td>\n",
       "      <td>NC3</td>\n",
       "    </tr>\n",
       "    <tr>\n",
       "      <th>8</th>\n",
       "      <td>Team A</td>\n",
       "      <td>13.2</td>\n",
       "      <td>23.9</td>\n",
       "      <td>27.302930</td>\n",
       "      <td>0</td>\n",
       "      <td>NC3</td>\n",
       "    </tr>\n",
       "    <tr>\n",
       "      <th>...</th>\n",
       "      <td>...</td>\n",
       "      <td>...</td>\n",
       "      <td>...</td>\n",
       "      <td>...</td>\n",
       "      <td>...</td>\n",
       "      <td>...</td>\n",
       "    </tr>\n",
       "    <tr>\n",
       "      <th>495</th>\n",
       "      <td>Team A</td>\n",
       "      <td>0.0</td>\n",
       "      <td>-0.5</td>\n",
       "      <td>0.500000</td>\n",
       "      <td>0</td>\n",
       "      <td>2PT</td>\n",
       "    </tr>\n",
       "    <tr>\n",
       "      <th>496</th>\n",
       "      <td>Team A</td>\n",
       "      <td>0.0</td>\n",
       "      <td>-0.5</td>\n",
       "      <td>0.500000</td>\n",
       "      <td>1</td>\n",
       "      <td>2PT</td>\n",
       "    </tr>\n",
       "    <tr>\n",
       "      <th>497</th>\n",
       "      <td>Team A</td>\n",
       "      <td>0.0</td>\n",
       "      <td>-0.5</td>\n",
       "      <td>0.500000</td>\n",
       "      <td>0</td>\n",
       "      <td>2PT</td>\n",
       "    </tr>\n",
       "    <tr>\n",
       "      <th>500</th>\n",
       "      <td>Team A</td>\n",
       "      <td>0.3</td>\n",
       "      <td>0.3</td>\n",
       "      <td>0.424264</td>\n",
       "      <td>0</td>\n",
       "      <td>2PT</td>\n",
       "    </tr>\n",
       "    <tr>\n",
       "      <th>501</th>\n",
       "      <td>Team A</td>\n",
       "      <td>0.1</td>\n",
       "      <td>0.3</td>\n",
       "      <td>0.316228</td>\n",
       "      <td>1</td>\n",
       "      <td>2PT</td>\n",
       "    </tr>\n",
       "  </tbody>\n",
       "</table>\n",
       "<p>280 rows × 6 columns</p>\n",
       "</div>"
      ],
      "text/plain": [
       "       team     x     y        hyp  fgmade Classification\n",
       "2    Team A -18.2  22.1  28.629530       0            NC3\n",
       "5    Team A  11.3  25.1  27.526351       0            NC3\n",
       "6    Team A  15.4  22.8  27.513633       1            NC3\n",
       "7    Team A  -3.4  27.2  27.411676       0            NC3\n",
       "8    Team A  13.2  23.9  27.302930       0            NC3\n",
       "..      ...   ...   ...        ...     ...            ...\n",
       "495  Team A   0.0  -0.5   0.500000       0            2PT\n",
       "496  Team A   0.0  -0.5   0.500000       1            2PT\n",
       "497  Team A   0.0  -0.5   0.500000       0            2PT\n",
       "500  Team A   0.3   0.3   0.424264       0            2PT\n",
       "501  Team A   0.1   0.3   0.316228       1            2PT\n",
       "\n",
       "[280 rows x 6 columns]"
      ]
     },
     "execution_count": 10,
     "metadata": {},
     "output_type": "execute_result"
    }
   ],
   "source": [
    "TeamA"
   ]
  },
  {
   "cell_type": "code",
   "execution_count": 11,
   "id": "a09020d1",
   "metadata": {},
   "outputs": [
    {
     "data": {
      "text/plain": [
       "2PT    194\n",
       "NC3     69\n",
       "C3      17\n",
       "Name: Classification, dtype: int64"
      ]
     },
     "execution_count": 11,
     "metadata": {},
     "output_type": "execute_result"
    }
   ],
   "source": [
    "#Get number of attempts per zone for Team A\n",
    "TeamA['Classification'].value_counts()"
   ]
  },
  {
   "cell_type": "code",
   "execution_count": 24,
   "id": "0bd84a6c",
   "metadata": {},
   "outputs": [
    {
     "data": {
      "text/plain": [
       "280"
      ]
     },
     "execution_count": 24,
     "metadata": {},
     "output_type": "execute_result"
    }
   ],
   "source": [
    "#Get total number of shots for Team A\n",
    "len(TeamA['Classification'])"
   ]
  },
  {
   "cell_type": "code",
   "execution_count": 25,
   "id": "4972814c",
   "metadata": {},
   "outputs": [
    {
     "data": {
      "text/plain": [
       "0.6928571428571428"
      ]
     },
     "execution_count": 25,
     "metadata": {},
     "output_type": "execute_result"
    }
   ],
   "source": [
    "#Get percentage of 2PT for Team A\n",
    "194/280"
   ]
  },
  {
   "cell_type": "code",
   "execution_count": 27,
   "id": "2c30d5d2",
   "metadata": {},
   "outputs": [
    {
     "data": {
      "text/plain": [
       "0.24642857142857144"
      ]
     },
     "execution_count": 27,
     "metadata": {},
     "output_type": "execute_result"
    }
   ],
   "source": [
    "#Get percentage of NC3 for Team A\n",
    "69/280"
   ]
  },
  {
   "cell_type": "code",
   "execution_count": 28,
   "id": "c7b6714a",
   "metadata": {},
   "outputs": [
    {
     "data": {
      "text/plain": [
       "0.060714285714285714"
      ]
     },
     "execution_count": 28,
     "metadata": {},
     "output_type": "execute_result"
    }
   ],
   "source": [
    "#Get percentage of C3 for Team A\n",
    "17/280"
   ]
  },
  {
   "cell_type": "code",
   "execution_count": 40,
   "id": "cff65468",
   "metadata": {},
   "outputs": [
    {
     "data": {
      "text/plain": [
       "Text(0.5, 1.0, 'Team A Shot Distribution')"
      ]
     },
     "execution_count": 40,
     "metadata": {},
     "output_type": "execute_result"
    },
    {
     "data": {
      "image/png": "[encoded data removed]",
      "text/plain": [
       "<Figure size 432x288 with 1 Axes>"
      ]
     },
     "metadata": {},
     "output_type": "display_data"
    }
   ],
   "source": [
    "#Create pie chart of Team A shot distribution\n",
    "classA = ['2PT','NC3','C3']\n",
    "dataA=[194,69,17]\n",
    "plt.pie(dataA, labels=classA,autopct='%1.1f%%')\n",
    "plt.title('Team A Shot Distribution')"
   ]
  },
  {
   "cell_type": "code",
   "execution_count": 44,
   "id": "61bb3bcd",
   "metadata": {},
   "outputs": [
    {
     "data": {
      "text/plain": [
       "95"
      ]
     },
     "execution_count": 44,
     "metadata": {},
     "output_type": "execute_result"
    }
   ],
   "source": [
    "#Get number of made 2 PT for Team A \n",
    "len(TeamA[(TeamA['Classification'] == '2PT') & \n",
    "                                    (TeamA['fgmade'] == 1)])"
   ]
  },
  {
   "cell_type": "code",
   "execution_count": 45,
   "id": "14f22baa",
   "metadata": {},
   "outputs": [
    {
     "data": {
      "text/plain": [
       "0.4896907216494845"
      ]
     },
     "execution_count": 45,
     "metadata": {},
     "output_type": "execute_result"
    }
   ],
   "source": [
    "#EFG for 2PT is 2PT made / 2PT attempted since no 3s are made\n",
    "95/194"
   ]
  },
  {
   "cell_type": "code",
   "execution_count": 46,
   "id": "5cc0fb0f",
   "metadata": {},
   "outputs": [
    {
     "data": {
      "text/plain": [
       "22"
      ]
     },
     "execution_count": 46,
     "metadata": {},
     "output_type": "execute_result"
    }
   ],
   "source": [
    "#Get number of made NC3 for Team A \n",
    "len(TeamA[(TeamA['Classification'] == 'NC3') & \n",
    "                                    (TeamA['fgmade'] == 1)])"
   ]
  },
  {
   "cell_type": "code",
   "execution_count": 47,
   "id": "25581067",
   "metadata": {},
   "outputs": [
    {
     "data": {
      "text/plain": [
       "0.4782608695652174"
      ]
     },
     "execution_count": 47,
     "metadata": {},
     "output_type": "execute_result"
    }
   ],
   "source": [
    "#NC3 EFG for TeamA\n",
    "(22+.5*22)/69"
   ]
  },
  {
   "cell_type": "code",
   "execution_count": 48,
   "id": "7d533fde",
   "metadata": {},
   "outputs": [
    {
     "data": {
      "text/plain": [
       "8"
      ]
     },
     "execution_count": 48,
     "metadata": {},
     "output_type": "execute_result"
    }
   ],
   "source": [
    "#Get number of made C3 for Team A \n",
    "len(TeamA[(TeamA['Classification'] == 'C3') & \n",
    "                                    (TeamA['fgmade'] == 1)])"
   ]
  },
  {
   "cell_type": "code",
   "execution_count": 49,
   "id": "d2b4e7f6",
   "metadata": {},
   "outputs": [
    {
     "data": {
      "text/plain": [
       "0.7058823529411765"
      ]
     },
     "execution_count": 49,
     "metadata": {},
     "output_type": "execute_result"
    }
   ],
   "source": [
    "#C3 EFG for Team A\n",
    "(8+8*.5)/17"
   ]
  },
  {
   "cell_type": "code",
   "execution_count": 12,
   "id": "92c334bc",
   "metadata": {},
   "outputs": [],
   "source": [
    "#Create function for classifying shots as Corner 3, Non Corner 3, and 2 Point for Team B\n",
    "def f1(TeamB):\n",
    "    if TeamB['y'] < 7.8 and abs(TeamB['x']) < 22:\n",
    "        val=\"2PT\"\n",
    "    elif TeamB['hyp'] >= 23.75 and TeamB['y']>=7.8:\n",
    "        val='NC3'\n",
    "    elif TeamB['hyp']<23.75 and TeamB['y']>=7.8:\n",
    "        val='2PT'\n",
    "    elif TeamB['y']<7.8 and abs(TeamB['x'])>=22:\n",
    "        val ='C3'\n",
    "    return val"
   ]
  },
  {
   "cell_type": "code",
   "execution_count": 13,
   "id": "f0578f12",
   "metadata": {},
   "outputs": [
    {
     "name": "stderr",
     "output_type": "stream",
     "text": [
      "<ipython-input-13-3c1354c96c1a>:2: SettingWithCopyWarning: \n",
      "A value is trying to be set on a copy of a slice from a DataFrame.\n",
      "Try using .loc[row_indexer,col_indexer] = value instead\n",
      "\n",
      "See the caveats in the documentation: https://pandas.pydata.org/pandas-docs/stable/user_guide/indexing.html#returning-a-view-versus-a-copy\n",
      "  TeamB['Classification']=shots.apply(f1, axis=1)\n"
     ]
    }
   ],
   "source": [
    "#Create new column for shot classification for Team B\n",
    "TeamB['Classification']=shots.apply(f1, axis=1)"
   ]
  },
  {
   "cell_type": "code",
   "execution_count": 14,
   "id": "35b1d90f",
   "metadata": {},
   "outputs": [
    {
     "data": {
      "text/plain": [
       "2PT    150\n",
       "NC3     62\n",
       "C3      12\n",
       "Name: Classification, dtype: int64"
      ]
     },
     "execution_count": 14,
     "metadata": {},
     "output_type": "execute_result"
    }
   ],
   "source": [
    "#Get number of attempts per zone for Team B\n",
    "TeamB['Classification'].value_counts()"
   ]
  },
  {
   "cell_type": "code",
   "execution_count": 22,
   "id": "fd228400",
   "metadata": {},
   "outputs": [
    {
     "data": {
      "text/plain": [
       "0.04285714285714286"
      ]
     },
     "execution_count": 22,
     "metadata": {},
     "output_type": "execute_result"
    }
   ],
   "source": [
    "#Get shot percentage for TeamA C3\n",
    "12/280"
   ]
  },
  {
   "cell_type": "code",
   "execution_count": 29,
   "id": "83815f3c",
   "metadata": {},
   "outputs": [
    {
     "data": {
      "text/plain": [
       "224"
      ]
     },
     "execution_count": 29,
     "metadata": {},
     "output_type": "execute_result"
    }
   ],
   "source": [
    "#Get total number of shots for Team B\n",
    "len(TeamB['Classification'])"
   ]
  },
  {
   "cell_type": "code",
   "execution_count": 30,
   "id": "f6381749",
   "metadata": {},
   "outputs": [
    {
     "data": {
      "text/plain": [
       "0.6696428571428571"
      ]
     },
     "execution_count": 30,
     "metadata": {},
     "output_type": "execute_result"
    }
   ],
   "source": [
    "#Get percentage of 2PT for Team B\n",
    "150/224"
   ]
  },
  {
   "cell_type": "code",
   "execution_count": 31,
   "id": "d4d6cc2e",
   "metadata": {},
   "outputs": [
    {
     "data": {
      "text/plain": [
       "0.2767857142857143"
      ]
     },
     "execution_count": 31,
     "metadata": {},
     "output_type": "execute_result"
    }
   ],
   "source": [
    "#Get percentage of NC3 for Team B\n",
    "62/224"
   ]
  },
  {
   "cell_type": "code",
   "execution_count": 32,
   "id": "30cd0ffc",
   "metadata": {},
   "outputs": [
    {
     "data": {
      "text/plain": [
       "0.05357142857142857"
      ]
     },
     "execution_count": 32,
     "metadata": {},
     "output_type": "execute_result"
    }
   ],
   "source": [
    "#Get percentage of C3 for Team B\n",
    "12/224"
   ]
  },
  {
   "cell_type": "code",
   "execution_count": 41,
   "id": "501cf323",
   "metadata": {},
   "outputs": [
    {
     "data": {
      "text/plain": [
       "Text(0.5, 1.0, 'Team B Shot Distribution')"
      ]
     },
     "execution_count": 41,
     "metadata": {},
     "output_type": "execute_result"
    },
    {
     "data": {
      "image/png": "[encoded data removed]",
      "text/plain": [
       "<Figure size 432x288 with 1 Axes>"
      ]
     },
     "metadata": {},
     "output_type": "display_data"
    }
   ],
   "source": [
    "#Create pie chart of Team B shot distribution\n",
    "classB = ['2PT','NC3','C3']\n",
    "dataB=[150,62,12]\n",
    "plt.pie(dataB, labels=classB,autopct='%1.1f%%')\n",
    "plt.title('Team B Shot Distribution')"
   ]
  },
  {
   "cell_type": "code",
   "execution_count": 50,
   "id": "c305ca76",
   "metadata": {},
   "outputs": [
    {
     "data": {
      "text/plain": [
       "67"
      ]
     },
     "execution_count": 50,
     "metadata": {},
     "output_type": "execute_result"
    }
   ],
   "source": [
    "#Get number of made 2 PT for Team B \n",
    "len(TeamB[(TeamB['Classification'] == '2PT') & \n",
    "                                    (TeamB['fgmade'] == 1)])"
   ]
  },
  {
   "cell_type": "code",
   "execution_count": 51,
   "id": "ee29a861",
   "metadata": {},
   "outputs": [
    {
     "data": {
      "text/plain": [
       "0.44666666666666666"
      ]
     },
     "execution_count": 51,
     "metadata": {},
     "output_type": "execute_result"
    }
   ],
   "source": [
    "#EFG for 2PT Team B\n",
    "67/150"
   ]
  },
  {
   "cell_type": "code",
   "execution_count": 54,
   "id": "03190943",
   "metadata": {},
   "outputs": [
    {
     "data": {
      "text/plain": [
       "21"
      ]
     },
     "execution_count": 54,
     "metadata": {},
     "output_type": "execute_result"
    }
   ],
   "source": [
    "#Get number of made NC3 for Team B \n",
    "len(TeamB[(TeamB['Classification'] == 'NC3') & \n",
    "                                    (TeamB['fgmade'] == 1)])"
   ]
  },
  {
   "cell_type": "code",
   "execution_count": 55,
   "id": "7e2f2581",
   "metadata": {},
   "outputs": [
    {
     "data": {
      "text/plain": [
       "0.5080645161290323"
      ]
     },
     "execution_count": 55,
     "metadata": {},
     "output_type": "execute_result"
    }
   ],
   "source": [
    "#EFG for NC3 Team B\n",
    "(21+.5*21)/62"
   ]
  },
  {
   "cell_type": "code",
   "execution_count": 56,
   "id": "a7609db9",
   "metadata": {},
   "outputs": [
    {
     "data": {
      "text/plain": [
       "4"
      ]
     },
     "execution_count": 56,
     "metadata": {},
     "output_type": "execute_result"
    }
   ],
   "source": [
    "#Get number of made C3 for Team B \n",
    "len(TeamB[(TeamB['Classification'] == 'C3') & \n",
    "                                    (TeamB['fgmade'] == 1)])"
   ]
  },
  {
   "cell_type": "code",
   "execution_count": 57,
   "id": "46e4ed78",
   "metadata": {},
   "outputs": [
    {
     "data": {
      "text/plain": [
       "0.5"
      ]
     },
     "execution_count": 57,
     "metadata": {},
     "output_type": "execute_result"
    }
   ],
   "source": [
    "#EFG for C3 for Team B\n",
    "(4+4*.5)/12"
   ]
  },
  {
   "cell_type": "code",
   "execution_count": null,
   "id": "aa139f42",
   "metadata": {},
   "outputs": [],
   "source": []
  }
 ],
 "metadata": {
  "kernelspec": {
   "display_name": "Python 3",
   "language": "python",
   "name": "python3"
  },
  "language_info": {
   "codemirror_mode": {
    "name": "ipython",
    "version": 3
   },
   "file_extension": ".py",
   "mimetype": "text/x-python",
   "name": "python",
   "nbconvert_exporter": "python",
   "pygments_lexer": "ipython3",
   "version": "3.8.8"
  }
 },
 "nbformat": 4,
 "nbformat_minor": 5
}
